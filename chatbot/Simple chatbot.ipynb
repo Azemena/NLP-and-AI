{
 "cells": [
  {
   "cell_type": "markdown",
   "metadata": {},
   "source": [
    "# SIMPLE CHATBOT\n",
    "\n",
    "Un Chatbot est un robot qui vous parle \n",
    "\n",
    "On peut les utiliser pour plusieurs buts:\n",
    "    1- sur facebook pour planifier et programmer ses rendez-vous\n",
    "    2- Dans les compagnies aeriennes pour avoir les informations sur un vol quelconque\n",
    "    3- Pour communiquer avec sa copine \n",
    "    \n",
    "Dans ce travail, nous allons l'appliquer pour programmer un discours avec le rebot sous la forme question reponse\n",
    "\n",
    "Comme le montre notre exemple suivant:\n",
    "\n",
    "question: Bonjour \n",
    "reponse:  Salut toi comment vas tu ?\n",
    "question: Bien, pouvez vous me venir en aide ?\n",
    "reponse:  Oui bien sur que voulez vous  ?\n",
    "question: Je veux une chemise taille xxl\n",
    "reponse:  c'est compris, je prepare votre commande pour une chemise de taille XXL\n",
    "question: Ha ! magnifique et c'est pour quand ma commande ?\n",
    "reponse:  De rien, je vous repond entre dans 2 heures de temps, le temps pour mo de fouiller\n",
    "question: Merci bien j'atends votre reponse \n",
    "reponse:  Soyex les bienvenues, n'oubliez pas de respecter les mesures barrieres\n",
    "\n",
    "PREREQUIS:\n",
    "pour cella, nous allons installer un package special NLTK ( Natural Language Toolkit ); qui est une package qui contient beaucoups de fonctions et de methodes qui sont utilisees dans le domaine linguistique."
   ]
  },
  {
   "cell_type": "code",
   "execution_count": 3,
   "metadata": {},
   "outputs": [],
   "source": [
    "# Intallation de NLTK"
   ]
  },
  {
   "cell_type": "code",
   "execution_count": 4,
   "metadata": {},
   "outputs": [
    {
     "name": "stdout",
     "output_type": "stream",
     "text": [
      "Requirement already satisfied: nltk in /home/le/anaconda3/lib/python3.8/site-packages (3.5)\n",
      "Requirement already satisfied: joblib in /home/le/anaconda3/lib/python3.8/site-packages (from nltk) (0.16.0)\n",
      "Requirement already satisfied: tqdm in /home/le/anaconda3/lib/python3.8/site-packages (from nltk) (4.47.0)\n",
      "Requirement already satisfied: click in /home/le/anaconda3/lib/python3.8/site-packages (from nltk) (7.1.2)\n",
      "Requirement already satisfied: regex in /home/le/anaconda3/lib/python3.8/site-packages (from nltk) (2020.6.8)\n",
      "Note: you may need to restart the kernel to use updated packages.\n"
     ]
    }
   ],
   "source": [
    "pip install nltk\n"
   ]
  },
  {
   "cell_type": "code",
   "execution_count": null,
   "metadata": {},
   "outputs": [],
   "source": [
    "#Importation des packages necessaires"
   ]
  },
  {
   "cell_type": "code",
   "execution_count": 8,
   "metadata": {},
   "outputs": [],
   "source": [
    "from nltk.chat.util import Chat, reflections"
   ]
  },
  {
   "cell_type": "code",
   "execution_count": 9,
   "metadata": {},
   "outputs": [],
   "source": [
    "#Definissons un dialogue test pour s'assurer que tout se passe bien JE VAIS NOMMER MON DIALOGUE DIALOGUE"
   ]
  },
  {
   "cell_type": "code",
   "execution_count": 10,
   "metadata": {},
   "outputs": [],
   "source": [
    "dialogue = [['Bonjour, je me nomme AZEM', ['Hellow Azem; quoi de neuf champion  !']]]"
   ]
  },
  {
   "cell_type": "code",
   "execution_count": 11,
   "metadata": {},
   "outputs": [],
   "source": [
    "# Instation maintenant notre chat par la fonction Chat que nous avons importe de NLTK nomons cette instance chat"
   ]
  },
  {
   "cell_type": "code",
   "execution_count": 12,
   "metadata": {},
   "outputs": [],
   "source": [
    "chat = Chat(dialogue)"
   ]
  },
  {
   "cell_type": "code",
   "execution_count": 13,
   "metadata": {},
   "outputs": [],
   "source": [
    "# Maintenant la fonction pour demarer la conversation"
   ]
  },
  {
   "cell_type": "code",
   "execution_count": null,
   "metadata": {},
   "outputs": [
    {
     "name": "stdout",
     "output_type": "stream",
     "text": [
      ">bonjour, je me nomme Azem\n",
      "Hellow Azem; quoi de neuf champion  !\n",
      ">salut, je suis Azem\n",
      "None\n"
     ]
    }
   ],
   "source": [
    "chat.converse()"
   ]
  },
  {
   "cell_type": "markdown",
   "metadata": {},
   "source": [
    "Nous remarquons dans l'exemple precedent que notre chatbot est senssible a la casse et que notre robot nous  retourne NONE quand on ne respecte pas le texte en clair initialiser dans notre dialogue DIALOGUE."
   ]
  },
  {
   "cell_type": "markdown",
   "metadata": {},
   "source": [
    "# Partie 2 expressions regulieres\n",
    "\n",
    "Afin que notre robot soit generique, nous devons faire recourt aux expressions regulieres, ce qui va nous permettre de raouter la fonction REFLEXION de NLTK."
   ]
  },
  {
   "cell_type": "code",
   "execution_count": 2,
   "metadata": {},
   "outputs": [],
   "source": [
    "from nltk.chat.util import Chat, reflections"
   ]
  },
  {
   "cell_type": "code",
   "execution_count": 3,
   "metadata": {},
   "outputs": [],
   "source": [
    "dialogue= [['Bonjour, je me nomme (.*)', ['Hellow %1; quoi de neuf champion  !']]]"
   ]
  },
  {
   "cell_type": "code",
   "execution_count": 4,
   "metadata": {},
   "outputs": [],
   "source": [
    "chat = Chat(dialogue, reflections)"
   ]
  },
  {
   "cell_type": "code",
   "execution_count": null,
   "metadata": {},
   "outputs": [
    {
     "name": "stdout",
     "output_type": "stream",
     "text": [
      ">bonjour, je me nomme henri\n",
      "Hellow henri; quoi de neuf champion  !\n"
     ]
    }
   ],
   "source": [
    "chat.converse()"
   ]
  },
  {
   "cell_type": "markdown",
   "metadata": {},
   "source": [
    "#  Optimisation de notre Chatbot\n",
    "\n",
    "Ameliorons notre dialogue avec le robot en lui donnant la possibilite de retournner une reponse en fonction des mots les contenu dans les phrases."
   ]
  },
  {
   "cell_type": "code",
   "execution_count": 1,
   "metadata": {},
   "outputs": [],
   "source": [
    "from nltk.chat.util import Chat, reflections"
   ]
  },
  {
   "cell_type": "code",
   "execution_count": 4,
   "metadata": {},
   "outputs": [],
   "source": [
    "dialogue = [[\"(bonjour|salut|hi|hello|coucou|bonsoir|bon apres midi|how)\",[\"Salut toi en quoi puis je vous aidez\", \"Hellow toi en quoi puis je vous aidez\", \"Hellow champion en quoi puis je vous aidez\"]],\n",
    "            ['je veux une(.*) taille(.*)', ['Entendu je vais preparer une %1 de taille %2 pour vous dans 2 heures']],\n",
    "[\"(.*)(ville|adresse)\", ['nous sommes dans la ville de Dschang au Cameroun']]]"
   ]
  },
  {
   "cell_type": "code",
   "execution_count": 5,
   "metadata": {},
   "outputs": [],
   "source": [
    "chat = Chat(dialogue, reflections)"
   ]
  },
  {
   "cell_type": "code",
   "execution_count": null,
   "metadata": {},
   "outputs": [
    {
     "name": "stdout",
     "output_type": "stream",
     "text": [
      ">hi\n",
      "Hellow toi en quoi puis je vous aidez\n",
      ">peuc tu m'aider\n",
      "None\n",
      ">j'ai besoin d'une aide\n",
      "None\n",
      ">aide\n",
      "None\n",
      ">adresse\n",
      "nous sommes dans la ville de Dschang au Cameroun\n",
      ">je veux une chemise taille xxl\n",
      "Entendu je vais preparer une  chemise de taille  xxl pour vous dans 2 heures\n",
      ">quelle est votre ville\n",
      "nous sommes dans la ville de Dschang au Cameroun\n"
     ]
    }
   ],
   "source": [
    "chat.converse()"
   ]
  },
  {
   "cell_type": "markdown",
   "metadata": {},
   "source": [
    "# Partie 3 utilisation des mots cles \n",
    "\n",
    "Elle permet de faciliter le chat en communiquant en fonction de certains mots contenus dans le message de l'emmeteur."
   ]
  },
  {
   "cell_type": "code",
   "execution_count": 1,
   "metadata": {},
   "outputs": [],
   "source": [
    "from nltk.chat.util import Chat, reflections"
   ]
  },
  {
   "cell_type": "code",
   "execution_count": 2,
   "metadata": {},
   "outputs": [],
   "source": [
    "dialogue = [\n",
    "    [\"Mon nom c'est (.*)\", [\"Hello %1 et bienvenu\"]],\n",
    "    [\"(Bonjour|Salut|Coucou|Hi)\", [\"Salut\", \"Bonjour\", \"Coucou\", 'Hello', 'En quoi je peux aider']],\n",
    "    [\"Je veux une (.*) taille (.*)\", [\"Ok, je preparer pour vous une %1 de taille %2 elle sera prete dans 2h\"]],\n",
    "    [\"(.*)ville|adresse|localisation|lieu|maison\", [\"nous somme a dans la ville de Dschang au Cameroun\"]],\n",
    "    [\"(.*)aider(.*)\", [\"oui je peux vous aider\"]],\n",
    "    [\"(.*)merci(.*)\", [\"Je vous en prie le plaisir est partage, a bientot\"]]\n",
    "]"
   ]
  },
  {
   "cell_type": "code",
   "execution_count": 3,
   "metadata": {},
   "outputs": [],
   "source": [
    "chat =Chat(dialogue, reflections)"
   ]
  },
  {
   "cell_type": "code",
   "execution_count": null,
   "metadata": {},
   "outputs": [
    {
     "name": "stdout",
     "output_type": "stream",
     "text": [
      ">salut\n",
      "Bonjour\n",
      ">mon nom c'est Azem\n",
      "Hello azem et bienvenu\n",
      ">quelqu'un peut m'aider ?\n",
      "oui je peux vous aider\n",
      ">tres bien je veux une chemise de taille XXL\n",
      "None\n",
      ">je veux une chemise de taille xxl\n",
      "Ok, je preparer pour vous une chemise de de taille xxl elle sera prete dans 2h\n",
      ">quelqu'un peut m'aider a choisir ma chemise ?\n",
      "oui je peux vous aider\n",
      ">merci bien \n",
      "Je vous en prie le plaisir est partage, a bientot\n"
     ]
    }
   ],
   "source": [
    "chat.converse()"
   ]
  },
  {
   "cell_type": "markdown",
   "metadata": {},
   "source": [
    "# Resume\n",
    "\n",
    "Ce que nous devons retenir ici est qu'il est important pour avoir un on robt de chat de bien definir notre syntaxe et la coherence dans le dialogue avec l'utilisateur.\n",
    "\n",
    "Dans cette version, nous n'avons pas pris en compte les alorithmes de lintellignec artificiel, qui rendent les choses encore plus facile, d'ou la difficulte au niveau de la construction de nos phrases."
   ]
  },
  {
   "cell_type": "code",
   "execution_count": null,
   "metadata": {},
   "outputs": [],
   "source": []
  }
 ],
 "metadata": {
  "kernelspec": {
   "display_name": "Python 3",
   "language": "python",
   "name": "python3"
  },
  "language_info": {
   "codemirror_mode": {
    "name": "ipython",
    "version": 3
   },
   "file_extension": ".py",
   "mimetype": "text/x-python",
   "name": "python",
   "nbconvert_exporter": "python",
   "pygments_lexer": "ipython3",
   "version": "3.8.3"
  }
 },
 "nbformat": 4,
 "nbformat_minor": 4
}
