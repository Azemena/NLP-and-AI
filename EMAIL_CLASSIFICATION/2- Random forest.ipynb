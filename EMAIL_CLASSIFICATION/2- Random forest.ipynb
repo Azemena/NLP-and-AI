{
 "cells": [
  {
   "cell_type": "markdown",
   "metadata": {},
   "source": [
    "# Email classification using Naive Bayes classifier methods"
   ]
  },
  {
   "cell_type": "markdown",
   "metadata": {},
   "source": [
    "Cette recherche examine une comparaison entre trois approches différentes pour classer les e-mails en fonction de leurs catégories.\n",
    "\n",
    "1- Naive Bayes\n",
    "2- Random Forest\n",
    "3- SVNL\n",
    "\n",
    "L’algorithme des « forêts aléatoires » (ou Random Forest parfois aussi traduit par forêt d’arbres décisionnels) est un algorithme de classification qui réduit la variance des prévisions d’un arbre de décision seul, améliorant ainsi leurs performances. Pour cela, il combine de nombreux arbres de décisions dans une approche de type bagging."
   ]
  },
  {
   "cell_type": "code",
   "execution_count": 1,
   "metadata": {},
   "outputs": [
    {
     "name": "stdout",
     "output_type": "stream",
     "text": [
      "Extracting features\n",
      "Accuracy: 97.3076923076923\n",
      "matrice de confusion [[125   5]\n",
      " [  2 128]]\n",
      "\n",
      " Confusion matrix: \n",
      "\n"
     ]
    },
    {
     "data": {
      "image/png": "[encoded data removed]",
      "text/plain": [
       "<Figure size 432x288 with 2 Axes>"
      ]
     },
     "metadata": {
      "needs_background": "light"
     },
     "output_type": "display_data"
    },
    {
     "name": "stdout",
     "output_type": "stream",
     "text": [
      "\n",
      "\n",
      "              precision    recall  f1-score   support\n",
      "\n",
      "         0.0       0.98      0.96      0.97       130\n",
      "         1.0       0.96      0.98      0.97       130\n",
      "\n",
      "    accuracy                           0.97       260\n",
      "   macro avg       0.97      0.97      0.97       260\n",
      "weighted avg       0.97      0.97      0.97       260\n",
      "\n"
     ]
    }
   ],
   "source": [
    "from collections import Counter\n",
    "import os\n",
    "import numpy as np\n",
    "from sklearn.ensemble import RandomForestClassifier\n",
    "from sklearn.metrics import accuracy_score, confusion_matrix, classification_report\n",
    "import scikitplot as skplt\n",
    "import matplotlib.pyplot as plt\n",
    "\n",
    "\n",
    "\n",
    "data = {}\n",
    "\n",
    "\n",
    "def build_data(root):\n",
    "    all_words = []\n",
    "    files = [os.path.join(root, file) for file in os.listdir(root)]\n",
    "\n",
    "    global data\n",
    "\n",
    "\n",
    "    for file in files:\n",
    "        with open(file) as f:\n",
    "            for line in f:\n",
    "                words = line.split()\n",
    "                all_words += words\n",
    "\n",
    "    frequent = Counter(all_words)\n",
    "\n",
    "    all_keys = list(frequent)\n",
    "\n",
    "    for key in all_keys:\n",
    "        if key.isalpha() == False:\n",
    "            del frequent[key]\n",
    "\n",
    "    frequent = frequent.most_common(2500)\n",
    "\n",
    "    count = 0\n",
    "    for word in frequent:\n",
    "        data[word[0]] = count\n",
    "        count += 1\n",
    "\n",
    "\n",
    "def feature_extraction(root):\n",
    "    files = [os.path.join(root, file) for file in os.listdir(root)]\n",
    "    matrix = np.zeros((len(files), 2500))\n",
    "    labels = np.zeros(len(files))\n",
    "    file_count = 0\n",
    "\n",
    "    for file in files:\n",
    "        with open(file) as file_obj:\n",
    "            for index, line in enumerate(file_obj):\n",
    "                if index == 2:\n",
    "                    line = line.split()\n",
    "                    for word in line:\n",
    "                        if word in data:\n",
    "                            matrix[file_count, data[word]] = line.count(word)\n",
    "\n",
    "        labels[file_count] = 0\n",
    "        if 'spmsg' in file:\n",
    "            labels[file_count] = 1\n",
    "        file_count += 1\n",
    "    return matrix, labels\n",
    "\n",
    "\n",
    "if __name__ == '__main__':\n",
    "    training_data = '/home/le/Documents/Python_Env/EMAIL/dataset/training-data'\n",
    "    testing_data = '/home/le/Documents/Python_Env/EMAIL/dataset/testing-data'\n",
    "    # Building word data\n",
    "    build_data(training_data)\n",
    "\n",
    "    print('Extracting features')\n",
    "    training_feature_x, training_labels_y = feature_extraction(training_data)\n",
    "    testing_features_x, testing_labels_y = feature_extraction(testing_data)\n",
    "\n",
    "    model = RandomForestClassifier(n_estimators=30, criterion='entropy')\n",
    "    model.fit(training_feature_x, training_labels_y)\n",
    "\n",
    "\n",
    "    # Predicting\n",
    "    predicted_labels = model.predict(testing_features_x)\n",
    "    print('Accuracy:', accuracy_score(testing_labels_y, predicted_labels) * 100)\n",
    "\n",
    "    matrice_confusion = confusion_matrix(testing_labels_y, predicted_labels)\n",
    "    \n",
    "    \n",
    "    print('matrice de confusion', matrice_confusion)\n",
    "    print(\"\\n Confusion matrix: \\n\")\n",
    "    skplt.metrics.plot_confusion_matrix(testing_labels_y,predicted_labels, title=\"Confusion Matrix\", text_fontsize='large')\n",
    "    plt.show()\n",
    "    print('\\n')\n",
    "    print (classification_report(testing_labels_y, model.predict(testing_features_x)))"
   ]
  },
  {
   "cell_type": "code",
   "execution_count": null,
   "metadata": {},
   "outputs": [],
   "source": []
  },
  {
   "cell_type": "markdown",
   "metadata": {},
   "source": [
    "# Conclusion 2\n",
    "\n",
    "Avec la methode Random Forest, nous obtenons une precision de 97,3% plus meilleur que celle NAIVES BAYES etudie dans le premier cas. \n",
    "\n",
    "La matrice de confusion ci dessus nous aide a evaluer notre modele."
   ]
  }
 ],
 "metadata": {
  "kernelspec": {
   "display_name": "Python 3",
   "language": "python",
   "name": "python3"
  },
  "language_info": {
   "codemirror_mode": {
    "name": "ipython",
    "version": 3
   },
   "file_extension": ".py",
   "mimetype": "text/x-python",
   "name": "python",
   "nbconvert_exporter": "python",
   "pygments_lexer": "ipython3",
   "version": "3.8.3"
  }
 },
 "nbformat": 4,
 "nbformat_minor": 4
}
