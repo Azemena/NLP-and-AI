{
 "cells": [
  {
   "cell_type": "markdown",
   "metadata": {},
   "source": [
    "# Email classification using Naive Bayes classifier methods"
   ]
  },
  {
   "cell_type": "markdown",
   "metadata": {},
   "source": [
    "Cette recherche examine une comparaison entre trois approches différentes pour classer les e-mails en fonction de leurs catégories.\n",
    "\n",
    "1- Naive Bayes\n",
    "2- Random Forest\n",
    "3- SVNL\n",
    "\n",
    "Naive Bayes Classifier est basé sur des probabilités conditionnelles. Il est rapide et fonctionne très bien avec un petit ensemble de données. Il considère les mots indépendants comme une caractéristique. Dans ce rapport nous presentons son utilisation"
   ]
  },
  {
   "cell_type": "code",
   "execution_count": 4,
   "metadata": {},
   "outputs": [
    {
     "name": "stdout",
     "output_type": "stream",
     "text": [
      "Collecting scikit-plot\n",
      "  Downloading scikit_plot-0.3.7-py3-none-any.whl (33 kB)\n",
      "Requirement already satisfied: joblib>=0.10 in /home/le/anaconda3/lib/python3.8/site-packages (from scikit-plot) (0.16.0)\n",
      "Requirement already satisfied: scipy>=0.9 in /home/le/anaconda3/lib/python3.8/site-packages (from scikit-plot) (1.4.1)\n",
      "Requirement already satisfied: matplotlib>=1.4.0 in /home/le/anaconda3/lib/python3.8/site-packages (from scikit-plot) (3.2.2)\n",
      "Requirement already satisfied: scikit-learn>=0.18 in /home/le/anaconda3/lib/python3.8/site-packages (from scikit-plot) (0.23.2)\n",
      "Requirement already satisfied: numpy>=1.13.3 in /home/le/anaconda3/lib/python3.8/site-packages (from scipy>=0.9->scikit-plot) (1.18.5)\n",
      "Requirement already satisfied: cycler>=0.10 in /home/le/anaconda3/lib/python3.8/site-packages (from matplotlib>=1.4.0->scikit-plot) (0.10.0)\n",
      "Requirement already satisfied: python-dateutil>=2.1 in /home/le/anaconda3/lib/python3.8/site-packages (from matplotlib>=1.4.0->scikit-plot) (2.8.1)\n",
      "Requirement already satisfied: pyparsing!=2.0.4,!=2.1.2,!=2.1.6,>=2.0.1 in /home/le/anaconda3/lib/python3.8/site-packages (from matplotlib>=1.4.0->scikit-plot) (2.4.7)\n",
      "Requirement already satisfied: kiwisolver>=1.0.1 in /home/le/anaconda3/lib/python3.8/site-packages (from matplotlib>=1.4.0->scikit-plot) (1.2.0)\n",
      "Requirement already satisfied: threadpoolctl>=2.0.0 in /home/le/anaconda3/lib/python3.8/site-packages (from scikit-learn>=0.18->scikit-plot) (2.1.0)\n",
      "Requirement already satisfied: six in /home/le/anaconda3/lib/python3.8/site-packages (from cycler>=0.10->matplotlib>=1.4.0->scikit-plot) (1.15.0)\n",
      "Installing collected packages: scikit-plot\n",
      "Successfully installed scikit-plot-0.3.7\n",
      "Note: you may need to restart the kernel to use updated packages.\n"
     ]
    }
   ],
   "source": [
    "pip install scikit-plot"
   ]
  },
  {
   "cell_type": "code",
   "execution_count": 5,
   "metadata": {},
   "outputs": [
    {
     "name": "stdout",
     "output_type": "stream",
     "text": [
      "Extracting features\n",
      "Accuracy: 96.15384615384616\n",
      "matrice de confusion [[129   1]\n",
      " [  9 121]]\n",
      "\n",
      " Confusion matrix: \n",
      "\n"
     ]
    },
    {
     "data": {
      "image/png": "[encoded data removed]",
      "text/plain": [
       "<Figure size 432x288 with 2 Axes>"
      ]
     },
     "metadata": {
      "needs_background": "light"
     },
     "output_type": "display_data"
    },
    {
     "name": "stdout",
     "output_type": "stream",
     "text": [
      "\n",
      "\n",
      "              precision    recall  f1-score   support\n",
      "\n",
      "         0.0       0.93      0.99      0.96       130\n",
      "         1.0       0.99      0.93      0.96       130\n",
      "\n",
      "    accuracy                           0.96       260\n",
      "   macro avg       0.96      0.96      0.96       260\n",
      "weighted avg       0.96      0.96      0.96       260\n",
      "\n"
     ]
    }
   ],
   "source": [
    "\n",
    "from collections import Counter\n",
    "import os\n",
    "import numpy as np\n",
    "from sklearn.naive_bayes import GaussianNB\n",
    "from sklearn.metrics import accuracy_score, confusion_matrix, classification_report\n",
    "import scikitplot as skplt\n",
    "import matplotlib.pyplot as plt\n",
    "\n",
    "\n",
    "data = {}\n",
    "\n",
    "\n",
    "def build_data(root):\n",
    "    all_words = []\n",
    "    files = [os.path.join(root, file) for file in os.listdir(root)]\n",
    "\n",
    "    global data\n",
    "\n",
    "    for file in files:\n",
    "        with open(file) as f:\n",
    "            for line in f:\n",
    "                words = line.split()\n",
    "                all_words += words\n",
    "\n",
    "    frequent = Counter(all_words)\n",
    "\n",
    "    all_keys = list(frequent)\n",
    "\n",
    "    for key in all_keys:\n",
    "        if key.isalpha() == False:\n",
    "            del frequent[key]\n",
    "\n",
    "    frequent = frequent.most_common(2500)\n",
    "\n",
    "    count = 0\n",
    "    for word in frequent:\n",
    "        data[word[0]] = count\n",
    "        count += 1\n",
    "\n",
    "\n",
    "def feature_extraction(root):\n",
    "    files = [os.path.join(root, file) for file in os.listdir(root)]\n",
    "    matrix = np.zeros((len(files), 2500))\n",
    "    labels = np.zeros(len(files))\n",
    "    file_count = 0\n",
    "\n",
    "    for file in files:\n",
    "        with open(file) as file_obj:\n",
    "            for index, line in enumerate(file_obj):\n",
    "                if index == 2:\n",
    "                    line = line.split()\n",
    "                    for word in line:\n",
    "                        if word in data:\n",
    "                            matrix[file_count, data[word]] = line.count(word)\n",
    "\n",
    "        labels[file_count] = 0\n",
    "        if 'spmsg' in file:\n",
    "            labels[file_count] = 1\n",
    "        file_count += 1\n",
    "    return matrix, labels\n",
    "\n",
    "\n",
    "if __name__ == '__main__':\n",
    "    training_data = '/home/le/Documents/Python_Env/EMAIL/dataset/training-data'\n",
    "    testing_data = '/home/le/Documents/Python_Env/EMAIL/dataset/testing-data'\n",
    "\n",
    "    # Building word data\n",
    "    build_data(training_data)\n",
    "\n",
    "    print('Extracting features')\n",
    "    training_feature_x, training_labels_y = feature_extraction(training_data)\n",
    "    testing_features_x, testing_labels_y = feature_extraction(testing_data)\n",
    "\n",
    "    model = GaussianNB()\n",
    "    model.fit(training_feature_x, training_labels_y)\n",
    "\n",
    "    # Predicting\n",
    "    predicted_labels = model.predict(testing_features_x)\n",
    "    print('Accuracy:', accuracy_score(testing_labels_y, predicted_labels) * 100)\n",
    "    \n",
    "    matrice_confusion = confusion_matrix(testing_labels_y, predicted_labels)\n",
    "\n",
    "    print('matrice de confusion', matrice_confusion)\n",
    "    print(\"\\n Confusion matrix: \\n\")\n",
    "    skplt.metrics.plot_confusion_matrix(testing_labels_y,predicted_labels, title=\"Confusion Matrix\", text_fontsize='large')\n",
    "    plt.show()\n",
    "    print('\\n')\n",
    "    \n",
    "    print (classification_report(testing_labels_y, model.predict(testing_features_x)))\n",
    "     \n",
    "     "
   ]
  },
  {
   "cell_type": "markdown",
   "metadata": {},
   "source": [
    "# Conclusion 1\n",
    "\n",
    "Avec la methode Naives Bayes, nous obtenons une precision de 96,1%. \n",
    "La matrice de confusion ci dessus nous aide a evaluer notre modele."
   ]
  }
 ],
 "metadata": {
  "kernelspec": {
   "display_name": "Python 3",
   "language": "python",
   "name": "python3"
  },
  "language_info": {
   "codemirror_mode": {
    "name": "ipython",
    "version": 3
   },
   "file_extension": ".py",
   "mimetype": "text/x-python",
   "name": "python",
   "nbconvert_exporter": "python",
   "pygments_lexer": "ipython3",
   "version": "3.8.3"
  }
 },
 "nbformat": 4,
 "nbformat_minor": 4
}
