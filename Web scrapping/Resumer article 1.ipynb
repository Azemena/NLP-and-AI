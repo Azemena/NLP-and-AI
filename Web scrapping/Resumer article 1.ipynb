{
 "cells": [
  {
   "cell_type": "markdown",
   "metadata": {},
   "source": [
    "# WEB SCRAPING PART_1\n",
    "\n",
    "# OBJECTIF:\n",
    "Ecrire un programme python qui permet d'effectuer le WEB SRAPING des articles et leurs resumes \n",
    "\n",
    "# WEB SCRAPING:\n",
    "C'est le fait d'extraire des informations a partir du web, ( des article, tableaux, photos, videos, documents multimedias en general),  afin de les etudier, et d'en tirer de plus d'information dans de buts precis.\n",
    "\n",
    "# TECHNIQUES UTILISE DANS DIVERS DOMAINES:\n",
    "        --- Marketing = extraction des contacts et refferences a partir d'un couriel, ...\n",
    "        --- E-Commerce = extraction des commentaires des clients pour analyser leurs sentiments sur un article\n",
    "        --- Machine Learning et Deep Learning, pour resoudre ou repondre a certaines questions "
   ]
  },
  {
   "cell_type": "markdown",
   "metadata": {},
   "source": [
    "# 1- PREREQUIS: INSTALLATION DE QUELQUES LIBRAIRIES\n",
    "    NLTK = qui contient les packages du domaine linguistique (pour manipuler les mots, phrases,...)\n",
    "    NEWSPAPER3K = pour scraper notre article"
   ]
  },
  {
   "cell_type": "code",
   "execution_count": 67,
   "metadata": {},
   "outputs": [
    {
     "name": "stdout",
     "output_type": "stream",
     "text": [
      "Requirement already satisfied: nltk in /home/le/anaconda3/lib/python3.8/site-packages (3.5)\n",
      "Requirement already satisfied: tqdm in /home/le/anaconda3/lib/python3.8/site-packages (from nltk) (4.47.0)\n",
      "Requirement already satisfied: click in /home/le/anaconda3/lib/python3.8/site-packages (from nltk) (7.1.2)\n",
      "Requirement already satisfied: joblib in /home/le/anaconda3/lib/python3.8/site-packages (from nltk) (0.16.0)\n",
      "Requirement already satisfied: regex in /home/le/anaconda3/lib/python3.8/site-packages (from nltk) (2020.6.8)\n",
      "Note: you may need to restart the kernel to use updated packages.\n"
     ]
    }
   ],
   "source": [
    "pip install nltk"
   ]
  },
  {
   "cell_type": "code",
   "execution_count": 68,
   "metadata": {},
   "outputs": [
    {
     "name": "stdout",
     "output_type": "stream",
     "text": [
      "Requirement already satisfied: newspaper3K in /home/le/anaconda3/lib/python3.8/site-packages (0.2.8)\n",
      "Requirement already satisfied: PyYAML>=3.11 in /home/le/anaconda3/lib/python3.8/site-packages (from newspaper3K) (5.3.1)\n",
      "Requirement already satisfied: jieba3k>=0.35.1 in /home/le/anaconda3/lib/python3.8/site-packages (from newspaper3K) (0.35.1)\n",
      "Requirement already satisfied: feedfinder2>=0.0.4 in /home/le/anaconda3/lib/python3.8/site-packages (from newspaper3K) (0.0.4)\n",
      "Requirement already satisfied: python-dateutil>=2.5.3 in /home/le/anaconda3/lib/python3.8/site-packages (from newspaper3K) (2.8.1)\n",
      "Requirement already satisfied: tinysegmenter==0.3 in /home/le/anaconda3/lib/python3.8/site-packages (from newspaper3K) (0.3)\n",
      "Requirement already satisfied: nltk>=3.2.1 in /home/le/anaconda3/lib/python3.8/site-packages (from newspaper3K) (3.5)\n",
      "Requirement already satisfied: requests>=2.10.0 in /home/le/anaconda3/lib/python3.8/site-packages (from newspaper3K) (2.24.0)\n",
      "Requirement already satisfied: tldextract>=2.0.1 in /home/le/anaconda3/lib/python3.8/site-packages (from newspaper3K) (2.2.3)\n",
      "Requirement already satisfied: Pillow>=3.3.0 in /home/le/anaconda3/lib/python3.8/site-packages (from newspaper3K) (7.2.0)\n",
      "Requirement already satisfied: cssselect>=0.9.2 in /home/le/anaconda3/lib/python3.8/site-packages (from newspaper3K) (1.1.0)\n",
      "Requirement already satisfied: beautifulsoup4>=4.4.1 in /home/le/anaconda3/lib/python3.8/site-packages (from newspaper3K) (4.9.1)\n",
      "Requirement already satisfied: feedparser>=5.2.1 in /home/le/anaconda3/lib/python3.8/site-packages (from newspaper3K) (5.2.1)\n",
      "Requirement already satisfied: lxml>=3.6.0 in /home/le/anaconda3/lib/python3.8/site-packages (from newspaper3K) (4.5.2)\n",
      "Requirement already satisfied: six in /home/le/anaconda3/lib/python3.8/site-packages (from feedfinder2>=0.0.4->newspaper3K) (1.15.0)\n",
      "Requirement already satisfied: joblib in /home/le/anaconda3/lib/python3.8/site-packages (from nltk>=3.2.1->newspaper3K) (0.16.0)\n",
      "Requirement already satisfied: tqdm in /home/le/anaconda3/lib/python3.8/site-packages (from nltk>=3.2.1->newspaper3K) (4.47.0)\n",
      "Requirement already satisfied: click in /home/le/anaconda3/lib/python3.8/site-packages (from nltk>=3.2.1->newspaper3K) (7.1.2)\n",
      "Requirement already satisfied: regex in /home/le/anaconda3/lib/python3.8/site-packages (from nltk>=3.2.1->newspaper3K) (2020.6.8)\n",
      "Requirement already satisfied: idna<3,>=2.5 in /home/le/anaconda3/lib/python3.8/site-packages (from requests>=2.10.0->newspaper3K) (2.10)\n",
      "Requirement already satisfied: urllib3!=1.25.0,!=1.25.1,<1.26,>=1.21.1 in /home/le/anaconda3/lib/python3.8/site-packages (from requests>=2.10.0->newspaper3K) (1.25.9)\n",
      "Requirement already satisfied: chardet<4,>=3.0.2 in /home/le/anaconda3/lib/python3.8/site-packages (from requests>=2.10.0->newspaper3K) (3.0.4)\n",
      "Requirement already satisfied: certifi>=2017.4.17 in /home/le/anaconda3/lib/python3.8/site-packages (from requests>=2.10.0->newspaper3K) (2020.6.20)\n",
      "Requirement already satisfied: requests-file>=1.4 in /home/le/anaconda3/lib/python3.8/site-packages (from tldextract>=2.0.1->newspaper3K) (1.5.1)\n",
      "Requirement already satisfied: soupsieve>1.2 in /home/le/anaconda3/lib/python3.8/site-packages (from beautifulsoup4>=4.4.1->newspaper3K) (2.0.1)\n",
      "Note: you may need to restart the kernel to use updated packages.\n"
     ]
    }
   ],
   "source": [
    "pip install newspaper3K"
   ]
  },
  {
   "cell_type": "markdown",
   "metadata": {},
   "source": [
    "# 2- IMPORTATION DES PACKAGES"
   ]
  },
  {
   "cell_type": "code",
   "execution_count": 125,
   "metadata": {},
   "outputs": [],
   "source": [
    "import nltk                          # pour la manipulation du cote linguistique\n",
    "from newspaper import Article        # pour la manipulation des articles\n",
    "# nltk.download('punkt')"
   ]
  },
  {
   "cell_type": "markdown",
   "metadata": {},
   "source": [
    "# 3- TELECHARGEMENT DE L'ARTICLE\n",
    "    Choisissons un block de notre choix, ou un article de notre choix.Ici nous allons choisir l'article \" High Performance Computing in Resource PoorSettings: An Approach based on VolunteerComputing \"."
   ]
  },
  {
   "cell_type": "code",
   "execution_count": 126,
   "metadata": {},
   "outputs": [],
   "source": [
    "# Pour la telecherger, on dois creer une variable nommee URL dans laquelle nous devons refferencer le lien URL de\n",
    "# l'article en question.\n",
    "\n",
    "url = \"https://www.20minutes.fr/economie/651846-20110112-economie-contre-faim-planete-faudra-t-il-mettre-assiettes-2050\""
   ]
  },
  {
   "cell_type": "code",
   "execution_count": 127,
   "metadata": {},
   "outputs": [],
   "source": [
    "# Ensuite mettons cette refference dans un  autre objet ARTICLE en utilisant l'objet Article de NEWSPAPER3K\n",
    "article = Article(url)"
   ]
  },
  {
   "cell_type": "code",
   "execution_count": 128,
   "metadata": {},
   "outputs": [],
   "source": [
    "# Ensuite, demandons le telechargement de l'article\n",
    "\n",
    "article.download()"
   ]
  },
  {
   "cell_type": "code",
   "execution_count": 129,
   "metadata": {},
   "outputs": [],
   "source": [
    "# Parcourons le lein URL pour trouver l'article\n",
    "\n",
    "article.parse()"
   ]
  },
  {
   "cell_type": "markdown",
   "metadata": {},
   "source": [
    "#   4- PACOURONS LES DIFFERENTS CHAMPS DE L'ARTICLE"
   ]
  },
  {
   "cell_type": "code",
   "execution_count": 130,
   "metadata": {},
   "outputs": [
    {
     "data": {
      "text/plain": [
       "'Contre la faim et pour la planète, que faudra-t-il mettre dans nos assiettes en 2050?'"
      ]
     },
     "execution_count": 130,
     "metadata": {},
     "output_type": "execute_result"
    }
   ],
   "source": [
    "# Acces au titre de l'article\n",
    "\n",
    "article.title"
   ]
  },
  {
   "cell_type": "code",
   "execution_count": 131,
   "metadata": {},
   "outputs": [
    {
     "name": "stdout",
     "output_type": "stream",
     "text": [
      "Contre la faim et pour la planète, que faudra-t-il mettre dans nos assiettes en 2050?\n"
     ]
    }
   ],
   "source": [
    "# Acces au titre de l'article avec la fonction PRINT \n",
    "\n",
    "print(article.title)"
   ]
  },
  {
   "cell_type": "code",
   "execution_count": 132,
   "metadata": {},
   "outputs": [
    {
     "data": {
      "text/plain": [
       "['Thibaut Schepman']"
      ]
     },
     "execution_count": 132,
     "metadata": {},
     "output_type": "execute_result"
    }
   ],
   "source": [
    "# Acceder a l'auteur de l'article\n",
    "\n",
    "article.authors"
   ]
  },
  {
   "cell_type": "code",
   "execution_count": 133,
   "metadata": {},
   "outputs": [
    {
     "name": "stdout",
     "output_type": "stream",
     "text": [
      "2011-01-12 00:00:00\n"
     ]
    }
   ],
   "source": [
    "# Acceder a la date de publication de l'article\n",
    "\n",
    "print(article.publish_date)"
   ]
  },
  {
   "cell_type": "code",
   "execution_count": 134,
   "metadata": {},
   "outputs": [
    {
     "name": "stdout",
     "output_type": "stream",
     "text": [
      "https://img.20mn.fr/nRL34QSrRP2dGDPvmbsRRA/648x360_assiette-viande.jpg\n"
     ]
    }
   ],
   "source": [
    "# Acceder a la photo dans l'article cliquer sur le lien pour visualiser l'image\n",
    "\n",
    "print(article.top_image)"
   ]
  },
  {
   "cell_type": "code",
   "execution_count": 135,
   "metadata": {},
   "outputs": [
    {
     "name": "stdout",
     "output_type": "stream",
     "text": [
      "Une assiette de viande. — Natacha Pisarenko/AP/SIPA\n",
      "\n",
      "En 2050, la planète comptera 9 milliards d’êtres humains. Si notre régime alimentaire continue de s’enrichir, chacun d’entre eux mangera plus. Pour tenir ce rythme, il faudrait augmenter la production de nourriture de plus de 85 %. Comment relever ce défi, sans risquer de nouvelles crises alimentaires, ni menacer d’avantage notre environnement? C’est la question sur laquelle ont planché pendant quatre ans les chercheurs de l’Inra (l'Institut national de la recherche agronomique) et du Cirad (Centre de coopération internationale en recherche agronomique pour le développement). Leurs conclusions impliquent de grands changements dans nos étals et dans nos assiettes.\n",
      "\n",
      "Mangez moins… ou jeter moins\n",
      "\n",
      "Aujourd’hui, un individu dispose, en moyenne, d’une quantité de nourriture de 3.000 kilocalories par jour, contre 2.500 en 1961. C’est suffisant pour un homme de taille moyenne et ayant une activité physique régulière. Sauf que ce chiffre cache de nombreuses disparités. Dans les pays de l’OCDE, la moyenne frôle les 4.000 kilocalories - 6.300 si l’on compte la nourriture nécessaire à l’alimentation animale - ce qui est trop élevé. A l’inverse, la nourriture disponible Afrique subsaharienne représente seulement 2.500 kilocalories, ce qui est insuffisant.\n",
      "\n",
      "«Le régime alimentaire des pays développés n’est pas durable» et peu encore moins être généralisé à l’échelle de la planète, analyse Bruno Dorin, ingénieur au Cirad. La juste consommation quotidienne s’élève selon lui à 3.000 kilocalories par jour.\n",
      "\n",
      "Pour l’atteindre, la consommation doit croître de 30% dans les pays en développement. Dans les pays riches, elle doit diminuer de 25%. Inutile pour autant de se mettre à la diète. Il suffit de réduire le gâchis: entre 30 et 50% de la nourriture achetée aujourd’hui est jeté. «On peut aussi privilégier les aliments les moins caloriques, comme les fruits et légumes», précise Bruno Dorin.\n",
      "\n",
      "Moins de viande\n",
      "\n",
      "Autre solution, manger moins de viande. Selon Sandrine Paillard, économiste à l’Inra, la nourriture pour bétail équivaut aujourd’hui à la ration alimentaire de 800 millions d’être humains. Cela ne veut pas dire qu’il nous faut tous renoncer au steak, mais ralentir la consommation peut soulager la planète. Comptez en effet quatre kilos d’aliments pour produire un seul kilo de porc, selon l’Inra.\n",
      "\n",
      "Ces bonnes résolutions seraient positives pour la santé publique, puisque l’obésité «touche aujourd’hui 700 millions d’adultes», selon Sandrine Paillard. De bonne nouvelles aussi pour la planète, puisqu’une augmentation de la production alimentaire serait très consommatrice d’énergie, et pour la sécurité alimentaire, car la demande va déjà beaucoup augmenter dans les années à venir notamment à cause de la production de biocarburant.\n",
      "\n",
      "Comment intégrer ces changements ?\n",
      "\n",
      "«Tout le monde sait qu’il faut manger moins et manger mieux et pourtant il est très difficile de changer», concède Marion Guillou, présidente de l’Inra. Celle-ci souhaite «trouver des explications». Elle cite notamment des causes psychologiques, rappelant que «le mode alimentaire d’un enfant est directement lié à la distance entre son école et un fast-food», ou encore que «si l’on mange dans une plus grande assiette, ou en ne faisait pas attention à ce que l’on avale, on arrivera moins rapidement à satiété». Les deux instituts vont lancer des programmes de recherche dans ce sens.\n",
      "\n",
      "« Agrimonde : scénarios et défis pour nourrir le monde en 2050 », par le Cirad et l’Inrad. S. Paillard, S. Treyer et B. Dorin, éditions Quae, 42 euros.\n"
     ]
    }
   ],
   "source": [
    "# Acceder au texte de l'article\n",
    "\n",
    "print(article.text)"
   ]
  },
  {
   "cell_type": "markdown",
   "metadata": {},
   "source": [
    "# 5- EEFECTUONS UN RESUME DE L'ARTICLE\n",
    "\n",
    "Pour cella, on aura besoin d'abord de faire un traitement de texte (c'est ou NLTK doit intervenir pour faire du traitement de texte)"
   ]
  },
  {
   "cell_type": "code",
   "execution_count": 136,
   "metadata": {},
   "outputs": [],
   "source": [
    "#Traitement de texte\n",
    "\n",
    "article.nlp()"
   ]
  },
  {
   "cell_type": "code",
   "execution_count": 137,
   "metadata": {},
   "outputs": [
    {
     "name": "stdout",
     "output_type": "stream",
     "text": [
      "Leurs conclusions impliquent de grands changements dans nos étals et dans nos assiettes.\n",
      "«On peut aussi privilégier les aliments les moins caloriques, comme les fruits et légumes», précise Bruno Dorin.\n",
      "Selon Sandrine Paillard, économiste à l’Inra, la nourriture pour bétail équivaut aujourd’hui à la ration alimentaire de 800 millions d’être humains.\n",
      "Ces bonnes résolutions seraient positives pour la santé publique, puisque l’obésité «touche aujourd’hui 700 millions d’adultes», selon Sandrine Paillard.\n",
      "De bonne nouvelles aussi pour la planète, puisqu’une augmentation de la production alimentaire serait très consommatrice d’énergie, et pour la sécurité alimentaire, car la demande va déjà beaucoup augmenter dans les années à venir notamment à cause de la production de biocarburant.\n"
     ]
    }
   ],
   "source": [
    "# Resume de l'article\n",
    "\n",
    "print(article.summary)"
   ]
  },
  {
   "cell_type": "markdown",
   "metadata": {},
   "source": [
    "# 6- Conclusion \n",
    "\n",
    "Dans ce travail, nous avons fait du web scraping en metant sur pied une solution Python a base du NLP pour  analyser et resume des articles sur le Net et le cas d'exemple que nous avons \n",
    "pris vient du Blog https://www.20minutes.fr/actu-generale/. Nous pouvons adapter cete solution en utilisant les liens URL des articles provenant d'autres blocgs."
   ]
  },
  {
   "cell_type": "code",
   "execution_count": null,
   "metadata": {},
   "outputs": [],
   "source": []
  }
 ],
 "metadata": {
  "kernelspec": {
   "display_name": "Python 3",
   "language": "python",
   "name": "python3"
  },
  "language_info": {
   "codemirror_mode": {
    "name": "ipython",
    "version": 3
   },
   "file_extension": ".py",
   "mimetype": "text/x-python",
   "name": "python",
   "nbconvert_exporter": "python",
   "pygments_lexer": "ipython3",
   "version": "3.8.3"
  }
 },
 "nbformat": 4,
 "nbformat_minor": 4
}
