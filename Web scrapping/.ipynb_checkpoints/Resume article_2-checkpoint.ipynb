{
 "cells": [
  {
   "cell_type": "markdown",
   "metadata": {},
   "source": [
    "# WEB SCRAPING PART_2\n",
    "\n",
    "# OBJECTIF:\n",
    "Ecrire un programme python qui permet d'effectuer le WEB SRAPING a partir de plusieurs articles, pour le faire, on va essayer de les mettres sous forme d'une BASE DE DONNEES PANDAS. \n",
    "\n",
    "# WEB SCRAPING:\n",
    "C'est le fait d'extraire des informations a partir du web, ( des article, tableaux, photos, videos, documents multimedias en general),  afin de les etudier, et d'en tirer de plus d'information dans de buts precis.\n",
    "\n",
    "# TECHNIQUES UTILISE DANS DIVERS DOMAINES:\n",
    "        --- Marketing = extraction des contacts et refferences a partir d'un couriel, ...\n",
    "        --- E-Commerce = extraction des commentaires des clients pour analyser leurs sentiments sur un article\n",
    "        --- Machine Learning et Deep Learning, pour resoudre ou repondre a certaines questions "
   ]
  },
  {
   "cell_type": "code",
   "execution_count": 28,
   "metadata": {},
   "outputs": [
    {
     "name": "stdout",
     "output_type": "stream",
     "text": [
      "Requirement already satisfied: nltk in /home/le/anaconda3/lib/python3.8/site-packages (3.5)\n",
      "Requirement already satisfied: joblib in /home/le/anaconda3/lib/python3.8/site-packages (from nltk) (0.16.0)\n",
      "Requirement already satisfied: regex in /home/le/anaconda3/lib/python3.8/site-packages (from nltk) (2020.6.8)\n",
      "Requirement already satisfied: tqdm in /home/le/anaconda3/lib/python3.8/site-packages (from nltk) (4.47.0)\n",
      "Requirement already satisfied: click in /home/le/anaconda3/lib/python3.8/site-packages (from nltk) (7.1.2)\n",
      "Note: you may need to restart the kernel to use updated packages.\n"
     ]
    }
   ],
   "source": [
    "pip install nltk"
   ]
  },
  {
   "cell_type": "code",
   "execution_count": 29,
   "metadata": {},
   "outputs": [
    {
     "name": "stdout",
     "output_type": "stream",
     "text": [
      "Requirement already satisfied: newspaper3K in /home/le/anaconda3/lib/python3.8/site-packages (0.2.8)\n",
      "Requirement already satisfied: feedfinder2>=0.0.4 in /home/le/anaconda3/lib/python3.8/site-packages (from newspaper3K) (0.0.4)\n",
      "Requirement already satisfied: PyYAML>=3.11 in /home/le/anaconda3/lib/python3.8/site-packages (from newspaper3K) (5.3.1)\n",
      "Requirement already satisfied: python-dateutil>=2.5.3 in /home/le/anaconda3/lib/python3.8/site-packages (from newspaper3K) (2.8.1)\n",
      "Requirement already satisfied: lxml>=3.6.0 in /home/le/anaconda3/lib/python3.8/site-packages (from newspaper3K) (4.5.2)\n",
      "Requirement already satisfied: requests>=2.10.0 in /home/le/anaconda3/lib/python3.8/site-packages (from newspaper3K) (2.24.0)\n",
      "Requirement already satisfied: tinysegmenter==0.3 in /home/le/anaconda3/lib/python3.8/site-packages (from newspaper3K) (0.3)\n",
      "Requirement already satisfied: Pillow>=3.3.0 in /home/le/anaconda3/lib/python3.8/site-packages (from newspaper3K) (7.2.0)\n",
      "Requirement already satisfied: beautifulsoup4>=4.4.1 in /home/le/anaconda3/lib/python3.8/site-packages (from newspaper3K) (4.9.1)\n",
      "Requirement already satisfied: feedparser>=5.2.1 in /home/le/anaconda3/lib/python3.8/site-packages (from newspaper3K) (5.2.1)\n",
      "Requirement already satisfied: jieba3k>=0.35.1 in /home/le/anaconda3/lib/python3.8/site-packages (from newspaper3K) (0.35.1)\n",
      "Requirement already satisfied: cssselect>=0.9.2 in /home/le/anaconda3/lib/python3.8/site-packages (from newspaper3K) (1.1.0)\n",
      "Requirement already satisfied: tldextract>=2.0.1 in /home/le/anaconda3/lib/python3.8/site-packages (from newspaper3K) (2.2.3)\n",
      "Requirement already satisfied: nltk>=3.2.1 in /home/le/anaconda3/lib/python3.8/site-packages (from newspaper3K) (3.5)\n",
      "Requirement already satisfied: six in /home/le/anaconda3/lib/python3.8/site-packages (from feedfinder2>=0.0.4->newspaper3K) (1.15.0)\n",
      "Requirement already satisfied: urllib3!=1.25.0,!=1.25.1,<1.26,>=1.21.1 in /home/le/anaconda3/lib/python3.8/site-packages (from requests>=2.10.0->newspaper3K) (1.25.9)\n",
      "Requirement already satisfied: chardet<4,>=3.0.2 in /home/le/anaconda3/lib/python3.8/site-packages (from requests>=2.10.0->newspaper3K) (3.0.4)\n",
      "Requirement already satisfied: idna<3,>=2.5 in /home/le/anaconda3/lib/python3.8/site-packages (from requests>=2.10.0->newspaper3K) (2.10)\n",
      "Requirement already satisfied: certifi>=2017.4.17 in /home/le/anaconda3/lib/python3.8/site-packages (from requests>=2.10.0->newspaper3K) (2020.6.20)\n",
      "Requirement already satisfied: soupsieve>1.2 in /home/le/anaconda3/lib/python3.8/site-packages (from beautifulsoup4>=4.4.1->newspaper3K) (2.0.1)\n",
      "Requirement already satisfied: requests-file>=1.4 in /home/le/anaconda3/lib/python3.8/site-packages (from tldextract>=2.0.1->newspaper3K) (1.5.1)\n",
      "Requirement already satisfied: click in /home/le/anaconda3/lib/python3.8/site-packages (from nltk>=3.2.1->newspaper3K) (7.1.2)\n",
      "Requirement already satisfied: regex in /home/le/anaconda3/lib/python3.8/site-packages (from nltk>=3.2.1->newspaper3K) (2020.6.8)\n",
      "Requirement already satisfied: joblib in /home/le/anaconda3/lib/python3.8/site-packages (from nltk>=3.2.1->newspaper3K) (0.16.0)\n",
      "Requirement already satisfied: tqdm in /home/le/anaconda3/lib/python3.8/site-packages (from nltk>=3.2.1->newspaper3K) (4.47.0)\n",
      "Note: you may need to restart the kernel to use updated packages.\n"
     ]
    }
   ],
   "source": [
    "pip install newspaper3K"
   ]
  },
  {
   "cell_type": "code",
   "execution_count": 30,
   "metadata": {},
   "outputs": [],
   "source": [
    "# Importaion des packages necessaires\n",
    "\n",
    "import nltk\n",
    "from newspaper import Article\n",
    "import pandas as pd            # je veux faire du web scrapind pour plusieurs articles pour cela, j'aurais besoin \n",
    "                               # besoin de les mettre dans une base de donnee Pandas."
   ]
  },
  {
   "cell_type": "markdown",
   "metadata": {},
   "source": [
    "# 1- SPECIFIONS LES ARTICLES QUI NOUS INTERRESSES\n",
    "\n",
    "Pour cela, nous alons creer une liste d'URL et y mettre tous les liens vers les articles que je veux. Dans notre cas, nous allons effectuer le test sur 6 articles au choix du site https://www.20minutes.fr/actu-generale/."
   ]
  },
  {
   "cell_type": "code",
   "execution_count": 31,
   "metadata": {},
   "outputs": [],
   "source": [
    "# Specification des articles; pour cela, nous alons creer une liste d'articles a resumer. on a:\n",
    "\n",
    "urls = ['https://www.20minutes.fr/societe/2839987-20200814-puy-dome-apres-enieme-agression-pompier-autorites-portent-plainte',\n",
    "        'https://www.20minutes.fr/societe/2839931-20200814-dispositif-policier-disproportionne-contre-non-port-masque-australie-vraiment',\n",
    "        'https://www.20minutes.fr/societe/2839427-20200814-coronavirus-vivons-jour-jour-attente-fin-couples-binationaux-separes-pandemie',\n",
    "        'https://www.20minutes.fr/societe/2840075-20200814-lyon-rassemblement-soutien-apres-incendie-deux-lieux-culte-musulman',\n",
    "        'https://www.20minutes.fr/societe/2840087-20200814-coronavirus-obligation-port-masque-paris-etendue-nouveaux-quartiers',\n",
    "        'https://www.20minutes.fr/monde/2839947-20200814-explosions-beyrouth-deuxieme-francais-decede-enquete-paris-confiee-juges-instruction',\n",
    "        'https://www.20minutes.fr/monde/2839915-20200814-californie-policiere-sauve-justesse-homme-fauteuil-rails-train',\n",
    "        'https://www.20minutes.fr/monde/2839875-20200814-mediterranee-orientale-quoi-dues-tensions-entre-turquie-grece',\n",
    "        'https://www.20minutes.fr/monde/2839851-20200814-etats-unis-vols-prives-vers-cuba-suspendus-lutter-contre-abus-gouvernement',\n",
    "        'https://www.20minutes.fr/monde/2839851-20200814-etats-unis-vols-prives-vers-cuba-suspendus-lutter-contre-abus-gouvernement'\n",
    "       ]"
   ]
  },
  {
   "cell_type": "markdown",
   "metadata": {},
   "source": [
    "# 2- CREONS UNE FONCTION POUR EXTRAIRE LES DONNEES AU CHOIX\n",
    "\n",
    "Creons une fonction qui puisse nous aider a extraire les informations ( le texte ) a partir de ces urlou de ces articles."
   ]
  },
  {
   "cell_type": "code",
   "execution_count": 37,
   "metadata": {},
   "outputs": [],
   "source": [
    "def url_text(url):      # url (variable muette est differente de urls qui refference la liste de liens)\n",
    "    article = Article(url)\n",
    "    article.download()\n",
    "    article.parse()\n",
    "    article.nlp()                                   # On veut faire le traitement de texte\n",
    "    titre = article.title                           # On veut extraire les titres \n",
    "    auteur = article.authors                        # On veut les informtiosn sur les auteurs\n",
    "    date_publication = article.publish_date         # On veux les dates de publication \n",
    "    resume = article.summary                        # On veux le resume de chaques articles\n",
    "    print(url)                                      # Pour la visualisation\n",
    "    return titre, auteur, date_publication, resume   # les variables de ma base de donnees"
   ]
  },
  {
   "cell_type": "markdown",
   "metadata": {},
   "source": [
    "# 3- DEFINISONS UNE LISTE DE COMPREHENSION \n",
    "\n",
    "Ici, nous definissons une liste dans laquelle on veux mettre les variables de sorties"
   ]
  },
  {
   "cell_type": "code",
   "execution_count": 38,
   "metadata": {},
   "outputs": [
    {
     "name": "stdout",
     "output_type": "stream",
     "text": [
      "https://www.20minutes.fr/societe/2839987-20200814-puy-dome-apres-enieme-agression-pompier-autorites-portent-plainte\n",
      "https://www.20minutes.fr/societe/2839931-20200814-dispositif-policier-disproportionne-contre-non-port-masque-australie-vraiment\n",
      "https://www.20minutes.fr/societe/2839427-20200814-coronavirus-vivons-jour-jour-attente-fin-couples-binationaux-separes-pandemie\n",
      "https://www.20minutes.fr/societe/2840075-20200814-lyon-rassemblement-soutien-apres-incendie-deux-lieux-culte-musulman\n",
      "https://www.20minutes.fr/societe/2840087-20200814-coronavirus-obligation-port-masque-paris-etendue-nouveaux-quartiers\n",
      "https://www.20minutes.fr/monde/2839947-20200814-explosions-beyrouth-deuxieme-francais-decede-enquete-paris-confiee-juges-instruction\n",
      "https://www.20minutes.fr/monde/2839915-20200814-californie-policiere-sauve-justesse-homme-fauteuil-rails-train\n",
      "https://www.20minutes.fr/monde/2839875-20200814-mediterranee-orientale-quoi-dues-tensions-entre-turquie-grece\n",
      "https://www.20minutes.fr/monde/2839851-20200814-etats-unis-vols-prives-vers-cuba-suspendus-lutter-contre-abus-gouvernement\n",
      "https://www.20minutes.fr/monde/2839851-20200814-etats-unis-vols-prives-vers-cuba-suspendus-lutter-contre-abus-gouvernement\n"
     ]
    }
   ],
   "source": [
    "#une liste de comprehension \n",
    "\n",
    "texts = [url_text(url) for url in urls]"
   ]
  },
  {
   "cell_type": "markdown",
   "metadata": {},
   "source": [
    "# 4- QUELQUES VISUALISATIONS"
   ]
  },
  {
   "cell_type": "code",
   "execution_count": 39,
   "metadata": {},
   "outputs": [
    {
     "data": {
      "text/plain": [
       "[('Puy-de-Dôme : Après une énième agression de pompier, les autorités portent plainte',\n",
       "  ['Minutes Avec Agences'],\n",
       "  datetime.datetime(2020, 8, 14, 0, 0),\n",
       "  '(Illustration — PASCAL RODRIGUEZ/SIPALes autorités du Puy-de-Dôme ont exprimé ce jeudi leur indignation après la blessure d’un pompier en intervention.\\nCela porte à 24 le nombre d’agressions ou d’incivilités dont les soldats du feu ont été victimes cette année dans le département.\\nLes pompiers « ont été une nouvelle fois pris à partie et agressés dans l’exercice de leurs missions ».\\nUn protocole de prévention à la rentréeUne plainte, à laquelle s’est associée la préfecture, a été déposée par le Sdis.\\nDes femmes et des hommes au service de leurs concitoyens ne peuvent être la cible de telles attaques et agressions.'),\n",
       " ('Un dispositif policier disproportionné contre le non-port du masque en Australie ? Pas vraiment',\n",
       "  ['Alexis Orsini'],\n",
       "  datetime.datetime(2020, 8, 14, 0, 0),\n",
       "  \"— Speed Media/Shutterstock/SIPAUn bataillon de policiers, à pied et à cheval, était-il vraiment nécessaire pour arrêter deux piétons refusant de porter leur masque contre le Covid-19, à Melbourne (Australie)?\\nEn pleine épidémie de Covid-19, la police australienne a-t-elle fait preuve d’une sévérité excessive à l’égard de citoyens qui ne portent pas de masque dans l'espace public ?\\n« En Australie, deux personnes se font arrêter avec un déploiement policier impressionnant, vous savez quelle est la raison ?\\nIls n’ont pas mis de masque à l’extérieur !\\nSans détailler le contexte bien précis de cette interpellation, dans le cadre d’une manifestation anti-masques interdite par les autorités locales.\"),\n",
       " ('Coronavirus : « Nous vivons au jour le jour »… L’attente sans fin des couples binationaux, séparés par la pandémie',\n",
       "  ['Lucie Bras'],\n",
       "  datetime.datetime(2020, 8, 14, 0, 0),\n",
       "  '— Sergei Fadeichev/TASS/Sipa USA/SIPASéparés par la crise sanitaire et la fermeture des frontières, de nombreux couples binationaux, non mariés, ne se sont pas vus depuis des mois.\\nL’attente est longue pour ces couples qui ne se sont pas vus depuis des mois, et dont les projets ont été balayés par la pandémie et la fermeture des frontières.\\n« Pour nous, c’est Facetime tous les jours, des petits cadeaux et des courriers par la poste.\\nElle raconte « les appels visio pendant des heures, des films à regarder ensemble sur Netflix ou des jeux en réseau ».\\nPour la majorité, si la situation semble sur le point de se débloquer, il ne reste que l’attente.'),\n",
       " (\"Lyon : Rassemblement de soutien après l'incendie de deux lieux de culte musulman\",\n",
       "  ['Minutes Avec Afp'],\n",
       "  datetime.datetime(2020, 8, 14, 0, 0),\n",
       "  '— Google Street ViewA l’appel du Conseil français du culte musulman (CFCM), environ 200 personnes se sont rassemblées ce vendredi à Lyon pour dénoncer le récent incendie de deux lieux de culte musulman et exprimer leur solidarité et leur unité.\\nCette manifestation de soutien se tenait devant la salle de prières lyonnaise visée la veille par un incendie vraisemblablement criminel après un autre, vendredi dernier à Bron.\\nVoici le triste record (…) des trois dernières semaines dans la métropole de Lyon », a déploré Azzedine Gacci, porte-parole du CTIR, le conseil des imams du Rhône, qui dépend du Conseil des Mosquées du Rhône (CMR).\\nLe président du CFCM, Mohammed Moussaoui, a dénoncé une « culture qui permet la banalisation des actes antimusulmans ».\\nNotre présence aujourd’hui montre que cela est vain car nous sommes unis par ce qui nous dépasse : notre spiritualité », a renchéri Etienne Tissot pour l’Eglise protestante unie de Lyon.'),\n",
       " (\"Coronavirus : L'obligation de port du masque à Paris étendue à de nouveaux quartiers\",\n",
       "  ['B.D. Avec Afp'],\n",
       "  datetime.datetime(2020, 8, 14, 0, 0),\n",
       "  'Depuis lundi, le masque était obligatoire à Paris dans quelques zones de la ville, dont les voies sur berge.\\nTaux de positivité à 4,14 % à Paris« Chaque jour, environ 600 personnes sont testées positives au Covid-19 dans la région dont 260 à Paris.\\nLe taux de positivité s’établit aujourd’hui à 4,14 % à Paris, à 3,6 % en Ile-de-France contre 2,4 % en moyenne nationale », selon la préfecture.\\nLes contrôles du port du masque dans les transports en communs vont également s’intensifier.\\nLongtemps présenté comme « inutile » par les autorités, le masque est devenu obligatoire dans les lieux publics clos le 20 juillet.'),\n",
       " ('Explosions à Beyrouth : Un deuxième Français décède, l’enquête à Paris confiée à des juges d’instruction',\n",
       "  ['Minutes Avec Afp'],\n",
       "  datetime.datetime(2020, 8, 14, 0, 0),\n",
       "  \"A ce jour, 93 blessés de nationalité française ont par ailleurs été dénombrés parmi les plus de 6.500 blessés recensés par les autorités libanaises, a précisé une de ces sources.\\nL’information judiciaire a été ouverte des chefs d'« homicides involontaires » et « blessures involontaires », a-t-il précisé.\\nLeur mission vise notamment à participer à l’identification des victimes et à la reconstitution des évènements, dans le cadre d’une coopération avec les autorités libanaises.\\nCes dernières continuent de rejeter une enquête internationale malgré les voix qui s’élèvent au Liban et à l’étranger en ce sens.\\nJeudi, les Etats-Unis ont annoncé que la police fédérale américaine (FBI) allait se joindre aux enquêteurs « à l’invitation » des autorités libanaises.\"),\n",
       " ('Californie : Une policière sauve de justesse un homme en fauteuil sur les rails d’un train',\n",
       "  ['Minutes Avec Agence'],\n",
       "  datetime.datetime(2020, 8, 14, 0, 0),\n",
       "  'Témoin de la scène effroyable, la représentante des forces de l’ordre est descendue de sa voiture et s’est précipitée sur l’homme de 66 ans.\\nElle a ensuite pu le tirer vers elle, une fraction de secondes avant qu’un train de marchandise n’arrive.\\nL’ensemble de cette séquence mouvementée a été enregistré par sa caméra mobile et diffusée sur le compte Facebook du commissariat de la ville.\\nSon courage a été salué« L’officier Urrea a risqué sa propre vie pour en sauver une autre et ses actions ont permis d’éviter une tragédie aujourd’hui.\\nQuant à la victime, elle a été transportée à l’hôpital.'),\n",
       " ('Méditerranée orientale : A quoi sont dues les tensions entre la Turquie et la Grèce ?',\n",
       "  ['Minutes Avec Afp'],\n",
       "  datetime.datetime(2020, 8, 14, 0, 0),\n",
       "  'Un avertissement sérieux alors que la Turquie déploie de nouveau des navires de prospection, notamment le navire sismique de recherche Oruç Reis, à la recherche d’hydrocarbures en Méditerranée orientale.\\nLes bateaux turcs n’hésitent pas en effet à explorer les eaux territoriales chypriotes et grecques, ravivant les tensions entre les deux pays.\\nJe me suis entretenu avec le président américain Donald Trump de la situation en Méditerranée orientale, en Libye et au Liban.\\nNotre intérêt à la paix et à la sécurité y est commun.\\nEn effet, les tensions entre la Grèce et la Turquie au sujet de leurs eaux territoriales sont fréquentes.'),\n",
       " ('Etats-Unis : Les vols privés vers Cuba suspendus pour lutter contre les « abus » du gouvernement',\n",
       "  ['Minutes Avec Agences'],\n",
       "  datetime.datetime(2020, 8, 14, 0, 0),\n",
       "  '— Nicholas Kamm/AP/SIPALes vols affrétés privés des Etats-Unis vers Cuba ont été suspendus ce jeudi.\\nLe chef de la diplomatie américaine a pris cette décision pour « couper les ressources économiques » et lutter contre « les abus » du gouvernement cubain.\\n« Le régime castriste se sert du tourisme et des fonds issus du tourisme pour financer ses abus et son interférence au Venezuela », a indiqué le secrétaire d’Etat Mike Pompeo sur Twitter.\\n« Les dictateurs ne peuvent être autorisés à profiter du tourisme américain.\\nLes vols affrétés publics vers La Havane et les vols affrétés privés pour urgences médicales ou missions de secours ne sont pas concernés.'),\n",
       " ('Etats-Unis : Les vols privés vers Cuba suspendus pour lutter contre les « abus » du gouvernement',\n",
       "  ['Minutes Avec Agences'],\n",
       "  datetime.datetime(2020, 8, 14, 0, 0),\n",
       "  '— Nicholas Kamm/AP/SIPALes vols affrétés privés des Etats-Unis vers Cuba ont été suspendus ce jeudi.\\nLe chef de la diplomatie américaine a pris cette décision pour « couper les ressources économiques » et lutter contre « les abus » du gouvernement cubain.\\n« Le régime castriste se sert du tourisme et des fonds issus du tourisme pour financer ses abus et son interférence au Venezuela », a indiqué le secrétaire d’Etat Mike Pompeo sur Twitter.\\n« Les dictateurs ne peuvent être autorisés à profiter du tourisme américain.\\nLes vols affrétés publics vers La Havane et les vols affrétés privés pour urgences médicales ou missions de secours ne sont pas concernés.')]"
      ]
     },
     "execution_count": 39,
     "metadata": {},
     "output_type": "execute_result"
    }
   ],
   "source": [
    "# Visualisons le contenu de la liste: on a la liste successive des differents articles dont nous avons les URLs\n",
    "texts"
   ]
  },
  {
   "cell_type": "code",
   "execution_count": 40,
   "metadata": {},
   "outputs": [
    {
     "data": {
      "text/plain": [
       "('Puy-de-Dôme : Après une énième agression de pompier, les autorités portent plainte',\n",
       " ['Minutes Avec Agences'],\n",
       " datetime.datetime(2020, 8, 14, 0, 0),\n",
       " '(Illustration — PASCAL RODRIGUEZ/SIPALes autorités du Puy-de-Dôme ont exprimé ce jeudi leur indignation après la blessure d’un pompier en intervention.\\nCela porte à 24 le nombre d’agressions ou d’incivilités dont les soldats du feu ont été victimes cette année dans le département.\\nLes pompiers « ont été une nouvelle fois pris à partie et agressés dans l’exercice de leurs missions ».\\nUn protocole de prévention à la rentréeUne plainte, à laquelle s’est associée la préfecture, a été déposée par le Sdis.\\nDes femmes et des hommes au service de leurs concitoyens ne peuvent être la cible de telles attaques et agressions.')"
      ]
     },
     "execution_count": 40,
     "metadata": {},
     "output_type": "execute_result"
    }
   ],
   "source": [
    "# comme texts est une liste, affichons son premier element qui est forcement le premier article de la liste\n",
    "# remarquons que ses champs sont les valeurs de retour de notre fonction \n",
    "# ses champs sont dans l'ordre: titre, auteur, date_publication, resume\n",
    "\n",
    "texts[0]"
   ]
  },
  {
   "cell_type": "markdown",
   "metadata": {},
   "source": [
    "# 5- Metons ces donnees extraites dans une base de donnee Pandas pour les utiliser facilement dans les domaines de Data Science, Machine Learning et Deep Learning "
   ]
  },
  {
   "cell_type": "code",
   "execution_count": 42,
   "metadata": {},
   "outputs": [],
   "source": [
    "# Definissons nos variables\n",
    "\n",
    "nom_colonnes = ['titre', \n",
    "                'auteur',\n",
    "                'date_publication',\n",
    "                'resume'\n",
    "               ]"
   ]
  },
  {
   "cell_type": "code",
   "execution_count": 44,
   "metadata": {},
   "outputs": [
    {
     "ename": "TypeError",
     "evalue": "__init__() got an unexpected keyword argument 'colum'",
     "output_type": "error",
     "traceback": [
      "\u001b[0;31m---------------------------------------------------------------------------\u001b[0m",
      "\u001b[0;31mTypeError\u001b[0m                                 Traceback (most recent call last)",
      "\u001b[0;32m<ipython-input-44-9f82224084e3>\u001b[0m in \u001b[0;36m<module>\u001b[0;34m\u001b[0m\n\u001b[1;32m      1\u001b[0m \u001b[0;31m# Transformons cette liste en Base de donnnees\u001b[0m\u001b[0;34m\u001b[0m\u001b[0;34m\u001b[0m\u001b[0;34m\u001b[0m\u001b[0m\n\u001b[1;32m      2\u001b[0m \u001b[0;34m\u001b[0m\u001b[0m\n\u001b[0;32m----> 3\u001b[0;31m \u001b[0mdf\u001b[0m \u001b[0;34m=\u001b[0m \u001b[0mpd\u001b[0m\u001b[0;34m.\u001b[0m\u001b[0mDataFrame\u001b[0m\u001b[0;34m(\u001b[0m\u001b[0mdata\u001b[0m\u001b[0;34m=\u001b[0m\u001b[0mtexts\u001b[0m\u001b[0;34m,\u001b[0m \u001b[0mcolum\u001b[0m\u001b[0;34m=\u001b[0m\u001b[0mnom_colonnes\u001b[0m\u001b[0;34m)\u001b[0m\u001b[0;34m\u001b[0m\u001b[0;34m\u001b[0m\u001b[0m\n\u001b[0m",
      "\u001b[0;31mTypeError\u001b[0m: __init__() got an unexpected keyword argument 'colum'"
     ]
    }
   ],
   "source": [
    "# Transformons cette liste en Base de donnnees\n",
    "\n",
    "df = pd.DataFrame(data=texts, colum=nom_colonnes)"
   ]
  },
  {
   "cell_type": "code",
   "execution_count": null,
   "metadata": {},
   "outputs": [],
   "source": []
  },
  {
   "cell_type": "code",
   "execution_count": null,
   "metadata": {},
   "outputs": [],
   "source": []
  },
  {
   "cell_type": "code",
   "execution_count": null,
   "metadata": {},
   "outputs": [],
   "source": []
  },
  {
   "cell_type": "code",
   "execution_count": null,
   "metadata": {},
   "outputs": [],
   "source": []
  },
  {
   "cell_type": "code",
   "execution_count": null,
   "metadata": {},
   "outputs": [],
   "source": []
  },
  {
   "cell_type": "code",
   "execution_count": null,
   "metadata": {},
   "outputs": [],
   "source": []
  },
  {
   "cell_type": "code",
   "execution_count": null,
   "metadata": {},
   "outputs": [],
   "source": []
  },
  {
   "cell_type": "code",
   "execution_count": null,
   "metadata": {},
   "outputs": [],
   "source": []
  }
 ],
 "metadata": {
  "kernelspec": {
   "display_name": "Python 3",
   "language": "python",
   "name": "python3"
  },
  "language_info": {
   "codemirror_mode": {
    "name": "ipython",
    "version": 3
   },
   "file_extension": ".py",
   "mimetype": "text/x-python",
   "name": "python",
   "nbconvert_exporter": "python",
   "pygments_lexer": "ipython3",
   "version": "3.8.3"
  }
 },
 "nbformat": 4,
 "nbformat_minor": 4
}
